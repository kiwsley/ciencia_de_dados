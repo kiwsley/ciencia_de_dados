{
 "cells": [
  {
   "cell_type": "markdown",
   "metadata": {},
   "source": [
    "## Exercício\n",
    "\n",
    "Você é um gerente de vendas e tem os dados de vendas de três produtos diferentes (Produto A, Produto B, Produto C) para os últimos 5 dias em um array 2D NumPy. Cada linha do array representa um produto e cada coluna representa um dia. Seu trabalho é calcular as vendas totais para cada produto e para cada dia.\n",
    "\n",
    "Use o seguinte array para sua análise:\n",
    "\n",
    "```python\n",
    "vendas = np.array([[50, 60, 70, 65, 80],\n",
    "                   [85, 90, 78, 92, 88],\n",
    "                   [72, 75, 68, 77, 76]])\n",
    "```\n",
    "\n",
    "**Solução:**\n"
   ]
  },
  {
   "cell_type": "code",
   "execution_count": 1,
   "metadata": {
    "ExecuteTime": {
     "end_time": "2023-07-03T12:12:12.700234800Z",
     "start_time": "2023-07-03T12:12:12.677347900Z"
    },
    "collapsed": false,
    "jupyter": {
     "outputs_hidden": false
    }
   },
   "outputs": [],
   "source": [
    "import numpy as np\n",
    "\n",
    "vendas = np.array([[50, 60, 70, 65, 80],\n",
    "                   [85, 90, 78, 92, 88],\n",
    "                   [72, 75, 68, 77, 76]])\n",
    "\n"
   ]
  },
  {
   "cell_type": "code",
   "execution_count": 3,
   "metadata": {},
   "outputs": [
    {
     "name": "stdout",
     "output_type": "stream",
     "text": [
      "[325 433 368]\n"
     ]
    }
   ],
   "source": [
    "vendas_por_produto = np.sum(vendas,axis =1)\n",
    "print(vendas_por_produto)"
   ]
  },
  {
   "cell_type": "code",
   "execution_count": 7,
   "metadata": {},
   "outputs": [
    {
     "name": "stdout",
     "output_type": "stream",
     "text": [
      "Vendas por produto A:325\n",
      "Vendas por produto B:433\n",
      "Vendas por produto C:368\n"
     ]
    }
   ],
   "source": [
    "print(f\"Vendas por produto A:{vendas_por_produto[0]}\")\n",
    "print(f\"Vendas por produto B:{vendas_por_produto[1]}\")\n",
    "print(f\"Vendas por produto C:{vendas_por_produto[2]}\")"
   ]
  },
  {
   "cell_type": "code",
   "execution_count": 4,
   "metadata": {},
   "outputs": [
    {
     "name": "stdout",
     "output_type": "stream",
     "text": [
      "[207 225 216 234 244]\n"
     ]
    }
   ],
   "source": [
    "vendas_por_dia = np.sum(vendas,axis =0)\n",
    "print(vendas_por_dia)"
   ]
  },
  {
   "cell_type": "code",
   "execution_count": 9,
   "metadata": {},
   "outputs": [
    {
     "name": "stdout",
     "output_type": "stream",
     "text": [
      "Vendas totais para o Dia 1: 207\n",
      "Vendas totais para o Dia 2: 225\n",
      "Vendas totais para o Dia 3: 216\n",
      "Vendas totais para o Dia 4: 234\n",
      "Vendas totais para o Dia 5: 244\n"
     ]
    }
   ],
   "source": [
    "for i in range(5):\n",
    "    print(f\"Vendas totais para o Dia {i+1}: {vendas_por_dia[i]}\")"
   ]
  }
 ],
 "metadata": {
  "kernelspec": {
   "display_name": "base",
   "language": "python",
   "name": "python3"
  },
  "language_info": {
   "codemirror_mode": {
    "name": "ipython",
    "version": 3
   },
   "file_extension": ".py",
   "mimetype": "text/x-python",
   "name": "python",
   "nbconvert_exporter": "python",
   "pygments_lexer": "ipython3",
   "version": "3.12.7"
  }
 },
 "nbformat": 4,
 "nbformat_minor": 4
}
