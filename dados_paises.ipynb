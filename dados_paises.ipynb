{
 "cells": [
  {
   "cell_type": "markdown",
   "metadata": {},
   "source": [
    "API \n",
    "\n",
    " https://restcountries.com/"
   ]
  },
  {
   "cell_type": "code",
   "execution_count": 34,
   "metadata": {},
   "outputs": [
    {
     "data": {
      "text/plain": [
       "200"
      ]
     },
     "execution_count": 34,
     "metadata": {},
     "output_type": "execute_result"
    }
   ],
   "source": [
    "import requests\n",
    "import pprint\n",
    "URL_ALL = \" https://restcountries.com/v3.1/all\"\n",
    "\n",
    "resposta = requests.get(URL_ALL)\n",
    "resposta.status_code"
   ]
  },
  {
   "cell_type": "code",
   "execution_count": 35,
   "metadata": {},
   "outputs": [
    {
     "data": {
      "text/plain": [
       "{'Server': 'nginx/1.22.1', 'Date': 'Fri, 03 Jan 2025 02:18:26 GMT', 'Content-Type': 'application/json', 'Content-Length': '171178', 'Connection': 'keep-alive', 'Cache-Control': 'public, immutable, max-age=31556926', 'content-encoding': 'gzip'}"
      ]
     },
     "execution_count": 35,
     "metadata": {},
     "output_type": "execute_result"
    }
   ],
   "source": [
    "resposta.headers"
   ]
  },
  {
   "cell_type": "code",
   "execution_count": 36,
   "metadata": {},
   "outputs": [
    {
     "data": {
      "text/plain": [
       "{'name': {'common': 'South Georgia',\n",
       "  'official': 'South Georgia and the South Sandwich Islands',\n",
       "  'nativeName': {'eng': {'official': 'South Georgia and the South Sandwich Islands',\n",
       "    'common': 'South Georgia'}}},\n",
       " 'tld': ['.gs'],\n",
       " 'cca2': 'GS',\n",
       " 'ccn3': '239',\n",
       " 'cca3': 'SGS',\n",
       " 'independent': False,\n",
       " 'status': 'officially-assigned',\n",
       " 'unMember': False,\n",
       " 'currencies': {'SHP': {'name': 'Saint Helena pound', 'symbol': '£'}},\n",
       " 'idd': {'root': '+5', 'suffixes': ['00']},\n",
       " 'capital': ['King Edward Point'],\n",
       " 'altSpellings': ['GS', 'South Georgia and the South Sandwich Islands'],\n",
       " 'region': 'Antarctic',\n",
       " 'languages': {'eng': 'English'},\n",
       " 'translations': {'ara': {'official': 'جورجيا الجنوبية وجزر ساندوتش الجنوبية',\n",
       "   'common': 'جورجيا الجنوبية'},\n",
       "  'bre': {'official': 'Georgia ar Su hag Inizi Sandwich ar Su',\n",
       "   'common': 'Georgia ar Su hag Inizi Sandwich ar Su'},\n",
       "  'ces': {'official': 'Jižní Georgie a Jižní Sandwichovy ostrovy',\n",
       "   'common': 'Jižní Georgie a Jižní Sandwichovy ostrovy'},\n",
       "  'cym': {'official': 'South Georgia and the South Sandwich Islands',\n",
       "   'common': 'South Georgia'},\n",
       "  'deu': {'official': 'Südgeorgien und die Südlichen Sandwichinseln',\n",
       "   'common': 'Südgeorgien und die Südlichen Sandwichinseln'},\n",
       "  'est': {'official': 'Lõuna-Georgia ja Lõuna-Sandwichi saared',\n",
       "   'common': 'Lõuna-Georgia ja Lõuna-Sandwichi saared'},\n",
       "  'fin': {'official': 'Etelä-Georgia ja Eteläiset Sandwichsaaret',\n",
       "   'common': 'Etelä-Georgia ja Eteläiset Sandwichsaaret'},\n",
       "  'fra': {'official': 'Géorgie du Sud et les îles Sandwich du Sud',\n",
       "   'common': 'Géorgie du Sud-et-les Îles Sandwich du Sud'},\n",
       "  'hrv': {'official': 'Južna Džordžija i Otoci Južni Sendvič',\n",
       "   'common': 'Južna Georgija i otočje Južni Sandwich'},\n",
       "  'hun': {'official': 'Déli-Georgia és Déli-Sandwich-szigetek',\n",
       "   'common': 'Déli-Georgia és Déli-Sandwich-szigetek'},\n",
       "  'ita': {'official': 'Georgia del Sud e isole Sandwich del Sud',\n",
       "   'common': 'Georgia del Sud e Isole Sandwich Meridionali'},\n",
       "  'jpn': {'official': 'サウスジョージア·サウスサンドウィッチ諸島',\n",
       "   'common': 'サウスジョージア・サウスサンドウィッチ諸島'},\n",
       "  'kor': {'official': '조지아', 'common': '조지아'},\n",
       "  'nld': {'official': 'Zuid-Georgië en de Zuidelijke Sandwich-eilanden',\n",
       "   'common': 'Zuid-Georgia en Zuidelijke Sandwicheilanden'},\n",
       "  'per': {'official': 'جزایر جورجیای جنوبی و ساندویچ جنوبی',\n",
       "   'common': 'جزایر جورجیای جنوبی و ساندویچ جنوبی'},\n",
       "  'pol': {'official': 'Georgia Południowa i Sandwich Południowy',\n",
       "   'common': 'Georgia Południowa i Sandwich Południowy'},\n",
       "  'por': {'official': 'Geórgia do Sul e Sandwich do Sul',\n",
       "   'common': 'Ilhas Geórgia do Sul e Sandwich do Sul'},\n",
       "  'rus': {'official': 'Южная Георгия и Южные Сандвичевы острова',\n",
       "   'common': 'Южная Георгия и Южные Сандвичевы острова'},\n",
       "  'slk': {'official': 'Južná Georgia a Južné Sandwichove ostrovy',\n",
       "   'common': 'Južná Georgia a Južné Sandwichove ostrovy'},\n",
       "  'spa': {'official': 'Georgia del Sur y las Islas Sandwich del Sur',\n",
       "   'common': 'Islas Georgias del Sur y Sandwich del Sur'},\n",
       "  'srp': {'official': 'Јужна Џорџија и Јужна Сендвичка Острва',\n",
       "   'common': 'Јужна Џорџија и Јужна Сендвичка Острва'},\n",
       "  'swe': {'official': 'Sydgeorgien', 'common': 'Sydgeorgien'},\n",
       "  'tur': {'official': 'Güney Georgia ve Güney Sandwich Adaları',\n",
       "   'common': 'Güney Georgia ve Güney Sandwich Adaları'},\n",
       "  'urd': {'official': 'جنوبی جارجیا و جزائر جنوبی سینڈوچ',\n",
       "   'common': 'جنوبی جارجیا'},\n",
       "  'zho': {'official': '南乔治亚岛和南桑威奇群岛', 'common': '南乔治亚'}},\n",
       " 'latlng': [-54.5, -37.0],\n",
       " 'landlocked': False,\n",
       " 'area': 3903.0,\n",
       " 'demonyms': {'eng': {'f': 'South Georgian South Sandwich Islander',\n",
       "   'm': 'South Georgian South Sandwich Islander'}},\n",
       " 'flag': '🇬🇸',\n",
       " 'maps': {'googleMaps': 'https://goo.gl/maps/mJzdaBwKBbm2B81q9',\n",
       "  'openStreetMaps': 'https://www.openstreetmap.org/relation/1983629'},\n",
       " 'population': 30,\n",
       " 'car': {'signs': [''], 'side': 'right'},\n",
       " 'timezones': ['UTC-02:00'],\n",
       " 'continents': ['Antarctica'],\n",
       " 'flags': {'png': 'https://flagcdn.com/w320/gs.png',\n",
       "  'svg': 'https://flagcdn.com/gs.svg'},\n",
       " 'coatOfArms': {},\n",
       " 'startOfWeek': 'monday',\n",
       " 'capitalInfo': {'latlng': [-54.28, -36.5]}}"
      ]
     },
     "execution_count": 36,
     "metadata": {},
     "output_type": "execute_result"
    }
   ],
   "source": [
    "resposta_all=resposta.json()\n",
    "\n",
    "resposta_all[0]"
   ]
  },
  {
   "cell_type": "code",
   "execution_count": 37,
   "metadata": {},
   "outputs": [
    {
     "data": {
      "text/plain": [
       "dict"
      ]
     },
     "execution_count": 37,
     "metadata": {},
     "output_type": "execute_result"
    }
   ],
   "source": [
    "type(resposta_all[0])"
   ]
  },
  {
   "cell_type": "code",
   "execution_count": 38,
   "metadata": {},
   "outputs": [
    {
     "data": {
      "text/plain": [
       "'South Georgia'"
      ]
     },
     "execution_count": 38,
     "metadata": {},
     "output_type": "execute_result"
    }
   ],
   "source": [
    "resposta_all[0] [\"name\"]['common']"
   ]
  },
  {
   "cell_type": "markdown",
   "metadata": {},
   "source": [
    "Endpoint name"
   ]
  },
  {
   "cell_type": "code",
   "execution_count": 39,
   "metadata": {},
   "outputs": [
    {
     "data": {
      "text/plain": [
       "[{'name': {'common': 'Brazil',\n",
       "   'official': 'Federative Republic of Brazil',\n",
       "   'nativeName': {'por': {'official': 'República Federativa do Brasil',\n",
       "     'common': 'Brasil'}}},\n",
       "  'tld': ['.br'],\n",
       "  'cca2': 'BR',\n",
       "  'ccn3': '076',\n",
       "  'cca3': 'BRA',\n",
       "  'cioc': 'BRA',\n",
       "  'independent': True,\n",
       "  'status': 'officially-assigned',\n",
       "  'unMember': True,\n",
       "  'currencies': {'BRL': {'name': 'Brazilian real', 'symbol': 'R$'}},\n",
       "  'idd': {'root': '+5', 'suffixes': ['5']},\n",
       "  'capital': ['Brasília'],\n",
       "  'altSpellings': ['BR',\n",
       "   'Brasil',\n",
       "   'Federative Republic of Brazil',\n",
       "   'República Federativa do Brasil'],\n",
       "  'region': 'Americas',\n",
       "  'subregion': 'South America',\n",
       "  'languages': {'por': 'Portuguese'},\n",
       "  'translations': {'ara': {'official': 'جمهورية البرازيل الاتحادية',\n",
       "    'common': 'البرازيل'},\n",
       "   'bre': {'official': 'Republik Kevreel Brazil', 'common': 'Brazil'},\n",
       "   'ces': {'official': 'Brazilská federativní republika',\n",
       "    'common': 'Brazílie'},\n",
       "   'cym': {'official': 'Gweriniaeth Ffederal Brasil', 'common': 'Brasil'},\n",
       "   'deu': {'official': 'Föderative Republik Brasilien', 'common': 'Brasilien'},\n",
       "   'est': {'official': 'Brasiilia Liitvabariik', 'common': 'Brasiilia'},\n",
       "   'fin': {'official': 'Brasilian liittotasavalta', 'common': 'Brasilia'},\n",
       "   'fra': {'official': 'République fédérative du Brésil', 'common': 'Brésil'},\n",
       "   'hrv': {'official': 'Savezne Republike Brazil', 'common': 'Brazil'},\n",
       "   'hun': {'official': 'Brazil Szövetségi Köztársaság', 'common': 'Brazília'},\n",
       "   'ita': {'official': 'Repubblica federativa del Brasile',\n",
       "    'common': 'Brasile'},\n",
       "   'jpn': {'official': 'ブラジル連邦共和国', 'common': 'ブラジル'},\n",
       "   'kor': {'official': '브라질 연방 공화국', 'common': '브라질'},\n",
       "   'nld': {'official': 'Federale Republiek Brazilië', 'common': 'Brazilië'},\n",
       "   'per': {'official': 'جمهوری فدراتیو برزیل', 'common': 'برزیل'},\n",
       "   'pol': {'official': 'Federacyjna Republika Brazylii', 'common': 'Brazylia'},\n",
       "   'por': {'official': 'República Federativa do Brasil', 'common': 'Brasil'},\n",
       "   'rus': {'official': 'Федеративная Республика Бразилия',\n",
       "    'common': 'Бразилия'},\n",
       "   'slk': {'official': 'Brazílska federatívna republika',\n",
       "    'common': 'Brazília'},\n",
       "   'spa': {'official': 'República Federativa del Brasil', 'common': 'Brasil'},\n",
       "   'srp': {'official': 'Савезна Република Бразил', 'common': 'Бразил'},\n",
       "   'swe': {'official': 'Förbundsrepubliken Brasilien', 'common': 'Brasilien'},\n",
       "   'tur': {'official': 'Brezilya Federal Cumhuriyeti', 'common': 'Brezilya'},\n",
       "   'urd': {'official': 'وفاقی جمہوریہ برازیل', 'common': 'برازیل'},\n",
       "   'zho': {'official': '巴西联邦共和国', 'common': '巴西'}},\n",
       "  'latlng': [-10.0, -55.0],\n",
       "  'landlocked': False,\n",
       "  'borders': ['ARG',\n",
       "   'BOL',\n",
       "   'COL',\n",
       "   'GUF',\n",
       "   'GUY',\n",
       "   'PRY',\n",
       "   'PER',\n",
       "   'SUR',\n",
       "   'URY',\n",
       "   'VEN'],\n",
       "  'area': 8515767.0,\n",
       "  'demonyms': {'eng': {'f': 'Brazilian', 'm': 'Brazilian'},\n",
       "   'fra': {'f': 'Brésilienne', 'm': 'Brésilien'}},\n",
       "  'flag': '🇧🇷',\n",
       "  'maps': {'googleMaps': 'https://goo.gl/maps/waCKk21HeeqFzkNC9',\n",
       "   'openStreetMaps': 'https://www.openstreetmap.org/relation/59470'},\n",
       "  'population': 212559409,\n",
       "  'gini': {'2019': 53.4},\n",
       "  'fifa': 'BRA',\n",
       "  'car': {'signs': ['BR'], 'side': 'right'},\n",
       "  'timezones': ['UTC-05:00', 'UTC-04:00', 'UTC-03:00', 'UTC-02:00'],\n",
       "  'continents': ['South America'],\n",
       "  'flags': {'png': 'https://flagcdn.com/w320/br.png',\n",
       "   'svg': 'https://flagcdn.com/br.svg',\n",
       "   'alt': \"The flag of Brazil has a green field with a large yellow rhombus in the center. Within the rhombus is a dark blue globe with twenty-seven small five-pointed white stars depicting a starry sky and a thin white convex horizontal band inscribed with the national motto 'Ordem e Progresso' across its center.\"},\n",
       "  'coatOfArms': {'png': 'https://mainfacts.com/media/images/coats_of_arms/br.png',\n",
       "   'svg': 'https://mainfacts.com/media/images/coats_of_arms/br.svg'},\n",
       "  'startOfWeek': 'monday',\n",
       "  'capitalInfo': {'latlng': [-15.79, -47.88]},\n",
       "  'postalCode': {'format': '#####-###', 'regex': '^(\\\\d{8})$'}}]"
      ]
     },
     "execution_count": 39,
     "metadata": {},
     "output_type": "execute_result"
    }
   ],
   "source": [
    "Url_brasil=\"https://restcountries.com/v3.1/name/brasil\"\n",
    "\n",
    "resposta_brasil = requests.get(Url_brasil).json()\n",
    "\n",
    "resposta_brasil"
   ]
  },
  {
   "cell_type": "code",
   "execution_count": 40,
   "metadata": {},
   "outputs": [
    {
     "data": {
      "text/plain": [
       "dict_keys(['name', 'tld', 'cca2', 'ccn3', 'cca3', 'cioc', 'independent', 'status', 'unMember', 'currencies', 'idd', 'capital', 'altSpellings', 'region', 'subregion', 'languages', 'translations', 'latlng', 'landlocked', 'borders', 'area', 'demonyms', 'flag', 'maps', 'population', 'gini', 'fifa', 'car', 'timezones', 'continents', 'flags', 'coatOfArms', 'startOfWeek', 'capitalInfo', 'postalCode'])"
      ]
     },
     "execution_count": 40,
     "metadata": {},
     "output_type": "execute_result"
    }
   ],
   "source": [
    "resposta_brasil[0].keys()"
   ]
  },
  {
   "cell_type": "code",
   "execution_count": 41,
   "metadata": {},
   "outputs": [
    {
     "data": {
      "text/plain": [
       "212559409"
      ]
     },
     "execution_count": 41,
     "metadata": {},
     "output_type": "execute_result"
    }
   ],
   "source": [
    "resposta_brasil[0][\"population\"]"
   ]
  },
  {
   "cell_type": "markdown",
   "metadata": {},
   "source": [
    "Endpoint Region"
   ]
  },
  {
   "cell_type": "code",
   "execution_count": 42,
   "metadata": {},
   "outputs": [
    {
     "data": {
      "text/plain": [
       "200"
      ]
     },
     "execution_count": 42,
     "metadata": {},
     "output_type": "execute_result"
    }
   ],
   "source": [
    "URL_America_sul = \"https://restcountries.com/v3.1/region/south america\"#case sensitive \n",
    "\n",
    "requests.get(URL_America_sul).status_code\n"
   ]
  },
  {
   "cell_type": "code",
   "execution_count": null,
   "metadata": {},
   "outputs": [],
   "source": []
  },
  {
   "cell_type": "code",
   "execution_count": 43,
   "metadata": {},
   "outputs": [
    {
     "data": {
      "text/plain": [
       "[{'name': {'common': 'Colombia',\n",
       "   'official': 'Republic of Colombia',\n",
       "   'nativeName': {'spa': {'official': 'República de Colombia',\n",
       "     'common': 'Colombia'}}},\n",
       "  'tld': ['.co'],\n",
       "  'cca2': 'CO',\n",
       "  'ccn3': '170',\n",
       "  'cca3': 'COL',\n",
       "  'cioc': 'COL',\n",
       "  'independent': True,\n",
       "  'status': 'officially-assigned',\n",
       "  'unMember': True,\n",
       "  'currencies': {'COP': {'name': 'Colombian peso', 'symbol': '$'}},\n",
       "  'idd': {'root': '+5', 'suffixes': ['7']},\n",
       "  'capital': ['Bogotá'],\n",
       "  'altSpellings': ['CO', 'Republic of Colombia', 'República de Colombia'],\n",
       "  'region': 'Americas',\n",
       "  'subregion': 'South America',\n",
       "  'languages': {'spa': 'Spanish'},\n",
       "  'translations': {'ara': {'official': 'جمهورية كولومبيا',\n",
       "    'common': 'كولومبيا'},\n",
       "   'bre': {'official': 'Republik Kolombia', 'common': 'Kolombia'},\n",
       "   'ces': {'official': 'Kolumbijská republika', 'common': 'Kolumbie'},\n",
       "   'cym': {'official': 'Gweriniaeth Colombia', 'common': 'Colombia'},\n",
       "   'deu': {'official': 'Republik Kolumbien', 'common': 'Kolumbien'},\n",
       "   'est': {'official': 'Colombia Vabariik', 'common': 'Colombia'},\n",
       "   'fin': {'official': 'Kolumbian tasavalta', 'common': 'Kolumbia'},\n",
       "   'fra': {'official': 'République de Colombie', 'common': 'Colombie'},\n",
       "   'hrv': {'official': 'Republika Kolumbija', 'common': 'Kolumbija'},\n",
       "   'hun': {'official': 'Kolumbiai Köztársaság', 'common': 'Kolumbia'},\n",
       "   'ita': {'official': 'Repubblica di Colombia', 'common': 'Colombia'},\n",
       "   'jpn': {'official': 'コロンビア共和国', 'common': 'コロンビア'},\n",
       "   'kor': {'official': '콜롬비아 공화국', 'common': '콜롬비아'},\n",
       "   'nld': {'official': 'Republiek Colombia', 'common': 'Colombia'},\n",
       "   'per': {'official': 'جمهوری کلمبیا', 'common': 'کلمبیا'},\n",
       "   'pol': {'official': 'Republika Kolumbii', 'common': 'Kolumbia'},\n",
       "   'por': {'official': 'República da Colômbia', 'common': 'Colômbia'},\n",
       "   'rus': {'official': 'Республика Колумбия', 'common': 'Колумбия'},\n",
       "   'slk': {'official': 'Kolumbijská republika', 'common': 'Kolumbia'},\n",
       "   'spa': {'official': 'República de Colombia', 'common': 'Colombia'},\n",
       "   'srp': {'official': 'Република Колумбија', 'common': 'Колумбија'},\n",
       "   'swe': {'official': 'Republiken Colombia', 'common': 'Colombia'},\n",
       "   'tur': {'official': 'Kolombiya Cumhuriyeti', 'common': 'Kolombiya'},\n",
       "   'urd': {'official': 'جمہوریہ کولمبیا', 'common': 'کولمبیا'},\n",
       "   'zho': {'official': '哥伦比亚共和国', 'common': '哥伦比亚'}},\n",
       "  'latlng': [4.0, -72.0],\n",
       "  'landlocked': False,\n",
       "  'borders': ['BRA', 'ECU', 'PAN', 'PER', 'VEN'],\n",
       "  'area': 1141748.0,\n",
       "  'demonyms': {'eng': {'f': 'Colombian', 'm': 'Colombian'},\n",
       "   'fra': {'f': 'Colombienne', 'm': 'Colombien'}},\n",
       "  'flag': '🇨🇴',\n",
       "  'maps': {'googleMaps': 'https://goo.gl/maps/zix9qNFX69E9yZ2M6',\n",
       "   'openStreetMaps': 'https://www.openstreetmap.org/relation/120027'},\n",
       "  'population': 50882884,\n",
       "  'gini': {'2019': 51.3},\n",
       "  'fifa': 'COL',\n",
       "  'car': {'signs': ['CO'], 'side': 'right'},\n",
       "  'timezones': ['UTC-05:00'],\n",
       "  'continents': ['South America'],\n",
       "  'flags': {'png': 'https://flagcdn.com/w320/co.png',\n",
       "   'svg': 'https://flagcdn.com/co.svg',\n",
       "   'alt': 'The flag of Colombia is composed of three horizontal bands of yellow, blue and red, with the yellow band twice the height of the other two bands.'},\n",
       "  'coatOfArms': {'png': 'https://mainfacts.com/media/images/coats_of_arms/co.png',\n",
       "   'svg': 'https://mainfacts.com/media/images/coats_of_arms/co.svg'},\n",
       "  'startOfWeek': 'monday',\n",
       "  'capitalInfo': {'latlng': [4.71, -74.07]}},\n",
       " {'name': {'common': 'French Guiana',\n",
       "   'official': 'Guiana',\n",
       "   'nativeName': {'fra': {'official': 'Guyane',\n",
       "     'common': 'Guyane française'}}},\n",
       "  'tld': ['.gf'],\n",
       "  'cca2': 'GF',\n",
       "  'ccn3': '254',\n",
       "  'cca3': 'GUF',\n",
       "  'independent': False,\n",
       "  'status': 'officially-assigned',\n",
       "  'unMember': False,\n",
       "  'currencies': {'EUR': {'name': 'Euro', 'symbol': '€'}},\n",
       "  'idd': {'root': '+5', 'suffixes': ['94']},\n",
       "  'capital': ['Cayenne'],\n",
       "  'altSpellings': ['GF', 'Guiana', 'Guyane'],\n",
       "  'region': 'Americas',\n",
       "  'subregion': 'South America',\n",
       "  'languages': {'fra': 'French'},\n",
       "  'translations': {'ara': {'official': 'غويانا الفرنسية', 'common': 'غويانا'},\n",
       "   'bre': {'official': \"Gwiana C'hall\", 'common': \"Gwiana C'hall\"},\n",
       "   'ces': {'official': 'Francouzská Guyana', 'common': 'Francouzská Guyana'},\n",
       "   'cym': {'official': 'Guiana', 'common': 'French Guiana'},\n",
       "   'deu': {'official': 'Französisch-Guayana', 'common': 'Französisch-Guayana'},\n",
       "   'est': {'official': 'Guajaana departemang', 'common': 'Prantsuse Guajaana'},\n",
       "   'fin': {'official': 'Ranskan Guayana', 'common': 'Ranskan Guayana'},\n",
       "   'fra': {'official': 'Guyane', 'common': 'Guyane'},\n",
       "   'hrv': {'official': 'Gijana', 'common': 'Francuska Gvajana'},\n",
       "   'hun': {'official': 'Francia Guyana', 'common': 'Francia Guyana'},\n",
       "   'ita': {'official': 'Guiana', 'common': 'Guyana francese'},\n",
       "   'jpn': {'official': 'ギアナ', 'common': 'フランス領ギアナ'},\n",
       "   'kor': {'official': '프랑스령 기아나', 'common': '프랑스령 기아나'},\n",
       "   'nld': {'official': 'Guyana', 'common': 'Frans-Guyana'},\n",
       "   'per': {'official': 'گویان فرانسه', 'common': 'گویان فرانسه'},\n",
       "   'pol': {'official': 'Gujana Francuska', 'common': 'Gujana Francuska'},\n",
       "   'por': {'official': 'Guiana', 'common': 'Guiana Francesa'},\n",
       "   'rus': {'official': 'Гвиана', 'common': 'Французская Гвиана'},\n",
       "   'slk': {'official': 'Francúzska Guyana', 'common': 'Guyana'},\n",
       "   'spa': {'official': 'Guayana', 'common': 'Guayana Francesa'},\n",
       "   'srp': {'official': 'Француска Гвајана', 'common': 'Француска Гвајана'},\n",
       "   'swe': {'official': 'Franska Guyana', 'common': 'Franska Guyana'},\n",
       "   'tur': {'official': 'Fransız Guyanası', 'common': 'Fransız Guyanası'},\n",
       "   'urd': {'official': 'گیانا', 'common': 'فرانسیسی گیانا'},\n",
       "   'zho': {'official': '法属圭亚那', 'common': '法属圭亚那'}},\n",
       "  'latlng': [4.0, -53.0],\n",
       "  'landlocked': False,\n",
       "  'borders': ['BRA', 'SUR'],\n",
       "  'area': 83534.0,\n",
       "  'demonyms': {'eng': {'f': 'Guianan', 'm': 'Guianan'},\n",
       "   'fra': {'f': 'Guyanaise', 'm': 'Guyanais'}},\n",
       "  'flag': '🇬🇫',\n",
       "  'maps': {'googleMaps': 'https://goo.gl/maps/NJawFwMzG7YtCrVP7',\n",
       "   'openStreetMaps': 'https://www.openstreetmap.org/relation/2502058'},\n",
       "  'population': 254541,\n",
       "  'car': {'signs': ['F'], 'side': 'right'},\n",
       "  'timezones': ['UTC-03:00'],\n",
       "  'continents': ['South America'],\n",
       "  'flags': {'png': 'https://flagcdn.com/w320/gf.png',\n",
       "   'svg': 'https://flagcdn.com/gf.svg'},\n",
       "  'coatOfArms': {'png': 'https://mainfacts.com/media/images/coats_of_arms/gf.png',\n",
       "   'svg': 'https://mainfacts.com/media/images/coats_of_arms/gf.svg'},\n",
       "  'startOfWeek': 'monday',\n",
       "  'capitalInfo': {'latlng': [4.94, -52.33]},\n",
       "  'postalCode': {'format': '#####', 'regex': '^((97|98)3\\\\d{2})$'}},\n",
       " {'name': {'common': 'Falkland Islands',\n",
       "   'official': 'Falkland Islands',\n",
       "   'nativeName': {'eng': {'official': 'Falkland Islands',\n",
       "     'common': 'Falkland Islands'}}},\n",
       "  'tld': ['.fk'],\n",
       "  'cca2': 'FK',\n",
       "  'ccn3': '238',\n",
       "  'cca3': 'FLK',\n",
       "  'independent': False,\n",
       "  'status': 'officially-assigned',\n",
       "  'unMember': False,\n",
       "  'currencies': {'FKP': {'name': 'Falkland Islands pound', 'symbol': '£'}},\n",
       "  'idd': {'root': '+5', 'suffixes': ['00']},\n",
       "  'capital': ['Stanley'],\n",
       "  'altSpellings': ['FK', 'Islas Malvinas', 'Falkland Islands (Malvinas)'],\n",
       "  'region': 'Americas',\n",
       "  'subregion': 'South America',\n",
       "  'languages': {'eng': 'English'},\n",
       "  'translations': {'ara': {'official': 'جزر فوكلاند', 'common': 'جزر فوكلاند'},\n",
       "   'bre': {'official': 'Inizi Maloù', 'common': 'Inizi Maloù'},\n",
       "   'ces': {'official': 'Falklandské ostrovy', 'common': 'Falklandy'},\n",
       "   'cym': {'official': 'Falkland Islands', 'common': 'Falkland Islands'},\n",
       "   'deu': {'official': 'Falklandinseln', 'common': 'Falklandinseln'},\n",
       "   'est': {'official': 'Falklandi saared', 'common': 'Falklandi saared'},\n",
       "   'fin': {'official': 'Falkandinsaaret', 'common': 'Falkandinsaaret'},\n",
       "   'fra': {'official': 'Îles Malouines', 'common': 'Îles Malouines'},\n",
       "   'hrv': {'official': 'Falklandski otoci', 'common': 'Falklandski Otoci'},\n",
       "   'hun': {'official': 'Falkland-szigetek', 'common': 'Falkland-szigetek'},\n",
       "   'ita': {'official': 'Isole Falkland',\n",
       "    'common': 'Isole Falkland o Isole Malvine'},\n",
       "   'jpn': {'official': 'フォークランド', 'common': 'フォークランド（マルビナス）諸島'},\n",
       "   'kor': {'official': '포클랜드 제도', 'common': '포클랜드 제도'},\n",
       "   'nld': {'official': 'Falkland eilanden', 'common': 'Falklandeilanden'},\n",
       "   'per': {'official': 'جزایر فالکلند', 'common': 'جزایر فالکلند'},\n",
       "   'pol': {'official': 'Falklandy', 'common': 'Falklandy'},\n",
       "   'por': {'official': 'Ilhas Malvinas', 'common': 'Ilhas Malvinas'},\n",
       "   'rus': {'official': 'Фолклендские острова',\n",
       "    'common': 'Фолклендские острова'},\n",
       "   'slk': {'official': 'Falklandské ostrovy', 'common': 'Falklandy'},\n",
       "   'spa': {'official': 'islas Malvinas', 'common': 'Islas Malvinas'},\n",
       "   'srp': {'official': 'Фолкландска Острва', 'common': 'Фолкланди'},\n",
       "   'swe': {'official': 'Falklandsöarna', 'common': 'Falklandsöarna'},\n",
       "   'tur': {'official': 'Falkland (Malvina) Adaları',\n",
       "    'common': 'Falkland (Malvina) Adaları'},\n",
       "   'urd': {'official': 'جزائر فاکلینڈ', 'common': 'جزائر فاکلینڈ'},\n",
       "   'zho': {'official': '福克兰群岛', 'common': '福克兰群岛'}},\n",
       "  'latlng': [-51.75, -59.0],\n",
       "  'landlocked': False,\n",
       "  'area': 12173.0,\n",
       "  'demonyms': {'eng': {'f': 'Falkland Islander', 'm': 'Falkland Islander'},\n",
       "   'fra': {'f': 'Malouinne', 'm': 'Malouin'}},\n",
       "  'flag': '🇫🇰',\n",
       "  'maps': {'googleMaps': 'https://goo.gl/maps/TZH1x7AGanQKifNk7',\n",
       "   'openStreetMaps': 'https://www.openstreetmap.org/relation/2185374'},\n",
       "  'population': 2563,\n",
       "  'car': {'signs': ['GB'], 'side': 'left'},\n",
       "  'timezones': ['UTC-04:00'],\n",
       "  'continents': ['South America'],\n",
       "  'flags': {'png': 'https://flagcdn.com/w320/fk.png',\n",
       "   'svg': 'https://flagcdn.com/fk.svg'},\n",
       "  'coatOfArms': {'png': 'https://mainfacts.com/media/images/coats_of_arms/fk.png',\n",
       "   'svg': 'https://mainfacts.com/media/images/coats_of_arms/fk.svg'},\n",
       "  'startOfWeek': 'monday',\n",
       "  'capitalInfo': {'latlng': [-51.7, -57.85]}}]"
      ]
     },
     "execution_count": 43,
     "metadata": {},
     "output_type": "execute_result"
    }
   ],
   "source": [
    "resposta_america_sul = requests.get(URL_America_sul).json()\n",
    "resposta_america_sul[:3]"
   ]
  },
  {
   "cell_type": "code",
   "execution_count": 44,
   "metadata": {},
   "outputs": [
    {
     "data": {
      "text/plain": [
       "200"
      ]
     },
     "execution_count": 44,
     "metadata": {},
     "output_type": "execute_result"
    }
   ],
   "source": [
    "URL_America_sul_filtros = \"https://restcountries.com/v3.1/region/south america?fields=name,population,capital\" \n",
    "\n",
    "requests.get(URL_America_sul_filtros).status_code"
   ]
  },
  {
   "cell_type": "code",
   "execution_count": 45,
   "metadata": {},
   "outputs": [
    {
     "data": {
      "text/plain": [
       "[{'name': {'common': 'Colombia',\n",
       "   'official': 'Republic of Colombia',\n",
       "   'nativeName': {'spa': {'official': 'República de Colombia',\n",
       "     'common': 'Colombia'}}},\n",
       "  'capital': ['Bogotá'],\n",
       "  'population': 50882884},\n",
       " {'name': {'common': 'French Guiana',\n",
       "   'official': 'Guiana',\n",
       "   'nativeName': {'fra': {'official': 'Guyane',\n",
       "     'common': 'Guyane française'}}},\n",
       "  'capital': ['Cayenne'],\n",
       "  'population': 254541},\n",
       " {'name': {'common': 'Falkland Islands',\n",
       "   'official': 'Falkland Islands',\n",
       "   'nativeName': {'eng': {'official': 'Falkland Islands',\n",
       "     'common': 'Falkland Islands'}}},\n",
       "  'capital': ['Stanley'],\n",
       "  'population': 2563},\n",
       " {'name': {'common': 'Uruguay',\n",
       "   'official': 'Oriental Republic of Uruguay',\n",
       "   'nativeName': {'spa': {'official': 'República Oriental del Uruguay',\n",
       "     'common': 'Uruguay'}}},\n",
       "  'capital': ['Montevideo'],\n",
       "  'population': 3473727},\n",
       " {'name': {'common': 'Paraguay',\n",
       "   'official': 'Republic of Paraguay',\n",
       "   'nativeName': {'grn': {'official': 'Tetã Paraguái', 'common': 'Paraguái'},\n",
       "    'spa': {'official': 'República de Paraguay', 'common': 'Paraguay'}}},\n",
       "  'capital': ['Asunción'],\n",
       "  'population': 7132530},\n",
       " {'name': {'common': 'Bolivia',\n",
       "   'official': 'Plurinational State of Bolivia',\n",
       "   'nativeName': {'aym': {'official': 'Wuliwya Suyu', 'common': 'Wuliwya'},\n",
       "    'grn': {'official': 'Tetã Volívia', 'common': 'Volívia'},\n",
       "    'que': {'official': 'Buliwya Mamallaqta', 'common': 'Buliwya'},\n",
       "    'spa': {'official': 'Estado Plurinacional de Bolivia',\n",
       "     'common': 'Bolivia'}}},\n",
       "  'capital': ['Sucre'],\n",
       "  'population': 11673029},\n",
       " {'name': {'common': 'Chile',\n",
       "   'official': 'Republic of Chile',\n",
       "   'nativeName': {'spa': {'official': 'República de Chile',\n",
       "     'common': 'Chile'}}},\n",
       "  'capital': ['Santiago'],\n",
       "  'population': 19116209},\n",
       " {'name': {'common': 'Brazil',\n",
       "   'official': 'Federative Republic of Brazil',\n",
       "   'nativeName': {'por': {'official': 'República Federativa do Brasil',\n",
       "     'common': 'Brasil'}}},\n",
       "  'capital': ['Brasília'],\n",
       "  'population': 212559409},\n",
       " {'name': {'common': 'Argentina',\n",
       "   'official': 'Argentine Republic',\n",
       "   'nativeName': {'grn': {'official': 'Argentine Republic',\n",
       "     'common': 'Argentina'},\n",
       "    'spa': {'official': 'República Argentina', 'common': 'Argentina'}}},\n",
       "  'capital': ['Buenos Aires'],\n",
       "  'population': 45376763},\n",
       " {'name': {'common': 'Venezuela',\n",
       "   'official': 'Bolivarian Republic of Venezuela',\n",
       "   'nativeName': {'spa': {'official': 'República Bolivariana de Venezuela',\n",
       "     'common': 'Venezuela'}}},\n",
       "  'capital': ['Caracas'],\n",
       "  'population': 28435943}]"
      ]
     },
     "execution_count": 45,
     "metadata": {},
     "output_type": "execute_result"
    }
   ],
   "source": [
    "resposta_america_sul_filtros = requests.get(URL_America_sul_filtros).json()\n",
    "\n",
    "resposta_america_sul_filtros[:10]"
   ]
  },
  {
   "cell_type": "code",
   "execution_count": 51,
   "metadata": {},
   "outputs": [
    {
     "data": {
      "text/plain": [
       "[{'nome': 'Colombia', 'capital': 'Bogotá', 'populacao': 50882884},\n",
       " {'nome': 'French Guiana', 'capital': 'Cayenne', 'populacao': 254541},\n",
       " {'nome': 'Falkland Islands', 'capital': 'Stanley', 'populacao': 2563},\n",
       " {'nome': 'Uruguay', 'capital': 'Montevideo', 'populacao': 3473727},\n",
       " {'nome': 'Paraguay', 'capital': 'Asunción', 'populacao': 7132530},\n",
       " {'nome': 'Bolivia', 'capital': 'Sucre', 'populacao': 11673029},\n",
       " {'nome': 'Chile', 'capital': 'Santiago', 'populacao': 19116209},\n",
       " {'nome': 'Brazil', 'capital': 'Brasília', 'populacao': 212559409},\n",
       " {'nome': 'Argentina', 'capital': 'Buenos Aires', 'populacao': 45376763},\n",
       " {'nome': 'Venezuela', 'capital': 'Caracas', 'populacao': 28435943},\n",
       " {'nome': 'Peru', 'capital': 'Lima', 'populacao': 32971846},\n",
       " {'nome': 'Guyana', 'capital': 'Georgetown', 'populacao': 786559},\n",
       " {'nome': 'Ecuador', 'capital': 'Quito', 'populacao': 17643060},\n",
       " {'nome': 'Suriname', 'capital': 'Paramaribo', 'populacao': 586634}]"
      ]
     },
     "execution_count": 51,
     "metadata": {},
     "output_type": "execute_result"
    }
   ],
   "source": [
    "paises_america_sul = []\n",
    "\n",
    "for pais in resposta_america_sul_filtros:\n",
    "    novo_pais={\n",
    "        \"nome\":pais[\"name\"][\"common\"],\n",
    "        \"capital\":pais[\"capital\"][0],\n",
    "        \"populacao\":pais[\"population\"]\n",
    "    }\n",
    "    paises_america_sul.append(novo_pais)\n",
    "    \n",
    "\n",
    "\n",
    "paises_america_sul\n"
   ]
  },
  {
   "cell_type": "code",
   "execution_count": 52,
   "metadata": {},
   "outputs": [
    {
     "data": {
      "text/html": [
       "<div>\n",
       "<style scoped>\n",
       "    .dataframe tbody tr th:only-of-type {\n",
       "        vertical-align: middle;\n",
       "    }\n",
       "\n",
       "    .dataframe tbody tr th {\n",
       "        vertical-align: top;\n",
       "    }\n",
       "\n",
       "    .dataframe thead th {\n",
       "        text-align: right;\n",
       "    }\n",
       "</style>\n",
       "<table border=\"1\" class=\"dataframe\">\n",
       "  <thead>\n",
       "    <tr style=\"text-align: right;\">\n",
       "      <th></th>\n",
       "      <th>nome</th>\n",
       "      <th>capital</th>\n",
       "      <th>populacao</th>\n",
       "    </tr>\n",
       "  </thead>\n",
       "  <tbody>\n",
       "    <tr>\n",
       "      <th>0</th>\n",
       "      <td>Colombia</td>\n",
       "      <td>Bogotá</td>\n",
       "      <td>50882884</td>\n",
       "    </tr>\n",
       "    <tr>\n",
       "      <th>1</th>\n",
       "      <td>French Guiana</td>\n",
       "      <td>Cayenne</td>\n",
       "      <td>254541</td>\n",
       "    </tr>\n",
       "    <tr>\n",
       "      <th>2</th>\n",
       "      <td>Falkland Islands</td>\n",
       "      <td>Stanley</td>\n",
       "      <td>2563</td>\n",
       "    </tr>\n",
       "    <tr>\n",
       "      <th>3</th>\n",
       "      <td>Uruguay</td>\n",
       "      <td>Montevideo</td>\n",
       "      <td>3473727</td>\n",
       "    </tr>\n",
       "    <tr>\n",
       "      <th>4</th>\n",
       "      <td>Paraguay</td>\n",
       "      <td>Asunción</td>\n",
       "      <td>7132530</td>\n",
       "    </tr>\n",
       "    <tr>\n",
       "      <th>5</th>\n",
       "      <td>Bolivia</td>\n",
       "      <td>Sucre</td>\n",
       "      <td>11673029</td>\n",
       "    </tr>\n",
       "    <tr>\n",
       "      <th>6</th>\n",
       "      <td>Chile</td>\n",
       "      <td>Santiago</td>\n",
       "      <td>19116209</td>\n",
       "    </tr>\n",
       "    <tr>\n",
       "      <th>7</th>\n",
       "      <td>Brazil</td>\n",
       "      <td>Brasília</td>\n",
       "      <td>212559409</td>\n",
       "    </tr>\n",
       "    <tr>\n",
       "      <th>8</th>\n",
       "      <td>Argentina</td>\n",
       "      <td>Buenos Aires</td>\n",
       "      <td>45376763</td>\n",
       "    </tr>\n",
       "    <tr>\n",
       "      <th>9</th>\n",
       "      <td>Venezuela</td>\n",
       "      <td>Caracas</td>\n",
       "      <td>28435943</td>\n",
       "    </tr>\n",
       "    <tr>\n",
       "      <th>10</th>\n",
       "      <td>Peru</td>\n",
       "      <td>Lima</td>\n",
       "      <td>32971846</td>\n",
       "    </tr>\n",
       "    <tr>\n",
       "      <th>11</th>\n",
       "      <td>Guyana</td>\n",
       "      <td>Georgetown</td>\n",
       "      <td>786559</td>\n",
       "    </tr>\n",
       "    <tr>\n",
       "      <th>12</th>\n",
       "      <td>Ecuador</td>\n",
       "      <td>Quito</td>\n",
       "      <td>17643060</td>\n",
       "    </tr>\n",
       "    <tr>\n",
       "      <th>13</th>\n",
       "      <td>Suriname</td>\n",
       "      <td>Paramaribo</td>\n",
       "      <td>586634</td>\n",
       "    </tr>\n",
       "  </tbody>\n",
       "</table>\n",
       "</div>"
      ],
      "text/plain": [
       "                nome       capital  populacao\n",
       "0           Colombia        Bogotá   50882884\n",
       "1      French Guiana       Cayenne     254541\n",
       "2   Falkland Islands       Stanley       2563\n",
       "3            Uruguay    Montevideo    3473727\n",
       "4           Paraguay      Asunción    7132530\n",
       "5            Bolivia         Sucre   11673029\n",
       "6              Chile      Santiago   19116209\n",
       "7             Brazil      Brasília  212559409\n",
       "8          Argentina  Buenos Aires   45376763\n",
       "9          Venezuela       Caracas   28435943\n",
       "10              Peru          Lima   32971846\n",
       "11            Guyana    Georgetown     786559\n",
       "12           Ecuador         Quito   17643060\n",
       "13          Suriname    Paramaribo     586634"
      ]
     },
     "execution_count": 52,
     "metadata": {},
     "output_type": "execute_result"
    }
   ],
   "source": [
    "import pandas as pd\n",
    "\n",
    "df_america_sul = pd.DataFrame(paises_america_sul)\n",
    "\n",
    "df_america_sul"
   ]
  },
  {
   "cell_type": "code",
   "execution_count": 53,
   "metadata": {},
   "outputs": [
    {
     "name": "stdout",
     "output_type": "stream",
     "text": [
      "<class 'pandas.core.frame.DataFrame'>\n",
      "RangeIndex: 14 entries, 0 to 13\n",
      "Data columns (total 3 columns):\n",
      " #   Column     Non-Null Count  Dtype \n",
      "---  ------     --------------  ----- \n",
      " 0   nome       14 non-null     object\n",
      " 1   capital    14 non-null     object\n",
      " 2   populacao  14 non-null     int64 \n",
      "dtypes: int64(1), object(2)\n",
      "memory usage: 468.0+ bytes\n"
     ]
    }
   ],
   "source": [
    "df_america_sul.info()"
   ]
  }
 ],
 "metadata": {
  "kernelspec": {
   "display_name": "Python 3",
   "language": "python",
   "name": "python3"
  },
  "language_info": {
   "codemirror_mode": {
    "name": "ipython",
    "version": 3
   },
   "file_extension": ".py",
   "mimetype": "text/x-python",
   "name": "python",
   "nbconvert_exporter": "python",
   "pygments_lexer": "ipython3",
   "version": "3.11.4"
  }
 },
 "nbformat": 4,
 "nbformat_minor": 2
}
